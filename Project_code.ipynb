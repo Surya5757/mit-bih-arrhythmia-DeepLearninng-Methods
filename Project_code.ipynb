{
 "cells": [
  {
   "cell_type": "markdown",
   "metadata": {
    "id": "awe-zWekJX-r"
   },
   "source": [
    "# Dataset"
   ]
  },
  {
   "cell_type": "markdown",
   "metadata": {
    "id": "mJpM4JmLJU7t"
   },
   "source": [
    "We will use the MIH-BIH Arrythmia dataset from https://physionet.org/content/mitdb/1.0.0/. This is a dataset with 48 half-hour two-channel ECG recordings measured at 360 Hz. The recordings have annotations from cardiologists for each heart beat. The symbols for the annotations can be found at https://archive.physionet.org/physiobank/annotations.shtml"
   ]
  },
  {
   "cell_type": "markdown",
   "metadata": {
    "id": "R5wOL8bPJd9i"
   },
   "source": [
    "# Project Definition"
   ]
  },
  {
   "cell_type": "markdown",
   "metadata": {
    "id": "AkBUmDh9JkYm"
   },
   "source": [
    "Predict if a heart beat from the first ECG signal has an arrhythmia for each 6 second window centered on the peak of the heart beat. To simplify the problem, we will assume that a QRS detector is capable of automatically identifying the peak of each heart beat. We will ignore any non-beat annotations and any heart beats in the first or last 3 seconds of the recording due to reduced data. We will use a window of 6 seconds so we can compare the current beat to beats just before and after. This decision was based after talking to a physician who said it is easier to identify if you have something to compare it to."
   ]
  },
  {
   "cell_type": "markdown",
   "metadata": {
    "id": "SeKYCJC_JvWc"
   },
   "source": [
    "# Data Preparation\n"
   ]
  },
  {
   "cell_type": "code",
   "execution_count": null,
   "metadata": {
    "id": "P3g93z5ntcfA"
   },
   "outputs": [],
   "source": [
    "import pandas as pd\n",
    "import numpy as np\n",
    "import matplotlib.pyplot as plt\n",
    "from os import listdir\n"
   ]
  },
  {
   "cell_type": "code",
   "execution_count": null,
   "metadata": {
    "id": "xXC9fYuOtcfG"
   },
   "outputs": [],
   "source": [
    "# data must be downloaded and path provided\n",
    "data_path = r'/content/drive/MyDrive/deep_arrhythmias-master/mit-bih-arrhythmia-database-1.0.0/'\n"
   ]
  },
  {
   "cell_type": "code",
   "execution_count": null,
   "metadata": {
    "colab": {
     "base_uri": "https://localhost:8080/"
    },
    "executionInfo": {
     "elapsed": 22947,
     "status": "ok",
     "timestamp": 1620978114032,
     "user": {
      "displayName": "surya teja",
      "photoUrl": "https://lh3.googleusercontent.com/a-/AOh14Gi1OaMrpEyGpWEiPRm_1uIW5IQcQml4T-ECMAX-MRE=s64",
      "userId": "10402361330384344484"
     },
     "user_tz": -600
    },
    "id": "h3akmHW8uhik",
    "outputId": "433bc8fd-0855-42b8-b08c-e73034b3b5db"
   },
   "outputs": [
    {
     "name": "stdout",
     "output_type": "stream",
     "text": [
      "Mounted at /content/drive\n"
     ]
    }
   ],
   "source": [
    "from google.colab import drive\n",
    "drive.mount('/content/drive')"
   ]
  },
  {
   "cell_type": "code",
   "execution_count": null,
   "metadata": {
    "id": "7qSDb8mytcfH"
   },
   "outputs": [],
   "source": [
    "# list of patients\n",
    "pts = ['100','101','102','103','104','105','106','107',\n",
    "       '108','109','111','112','113','114','115','116',\n",
    "       '117','118','119','121','122','123','124','200',\n",
    "       '201','202','203','205','207','208','209','210',\n",
    "       '212','213','214','215','217','219','220','221',\n",
    "       '222','223','228','230','231','232','233','234']"
   ]
  },
  {
   "cell_type": "markdown",
   "metadata": {
    "id": "9uO_m1OTJ26C"
   },
   "source": [
    "Here we will use a pypi package wfdb for loading the ecg and annotations.  "
   ]
  },
  {
   "cell_type": "code",
   "execution_count": null,
   "metadata": {
    "colab": {
     "base_uri": "https://localhost:8080/"
    },
    "executionInfo": {
     "elapsed": 4096,
     "status": "ok",
     "timestamp": 1620978079232,
     "user": {
      "displayName": "surya teja",
      "photoUrl": "https://lh3.googleusercontent.com/a-/AOh14Gi1OaMrpEyGpWEiPRm_1uIW5IQcQml4T-ECMAX-MRE=s64",
      "userId": "10402361330384344484"
     },
     "user_tz": -600
    },
    "id": "0X-c6etitpbt",
    "outputId": "6227808d-8c42-4688-b82b-f885e1b8f7ee"
   },
   "outputs": [
    {
     "name": "stdout",
     "output_type": "stream",
     "text": [
      "Collecting wfdb\n",
      "\u001b[?25l  Downloading https://files.pythonhosted.org/packages/11/be/d5572d9a8b779857f517306db178561c417456c76124cb4c9e7d234cf5a5/wfdb-3.3.0-py3-none-any.whl (125kB)\n",
      "\r",
      "\u001b[K     |██▋                             | 10kB 21.6MB/s eta 0:00:01\r",
      "\u001b[K     |█████▎                          | 20kB 14.8MB/s eta 0:00:01\r",
      "\u001b[K     |███████▉                        | 30kB 13.0MB/s eta 0:00:01\r",
      "\u001b[K     |██████████▌                     | 40kB 12.3MB/s eta 0:00:01\r",
      "\u001b[K     |█████████████                   | 51kB 9.4MB/s eta 0:00:01\r",
      "\u001b[K     |███████████████▊                | 61kB 8.3MB/s eta 0:00:01\r",
      "\u001b[K     |██████████████████▎             | 71kB 9.3MB/s eta 0:00:01\r",
      "\u001b[K     |█████████████████████           | 81kB 9.8MB/s eta 0:00:01\r",
      "\u001b[K     |███████████████████████▌        | 92kB 8.2MB/s eta 0:00:01\r",
      "\u001b[K     |██████████████████████████▏     | 102kB 8.7MB/s eta 0:00:01\r",
      "\u001b[K     |████████████████████████████▉   | 112kB 8.7MB/s eta 0:00:01\r",
      "\u001b[K     |███████████████████████████████▍| 122kB 8.7MB/s eta 0:00:01\r",
      "\u001b[K     |████████████████████████████████| 133kB 8.7MB/s \n",
      "\u001b[?25hRequirement already satisfied: cycler>=0.10.0 in /usr/local/lib/python3.7/dist-packages (from wfdb) (0.10.0)\n",
      "Requirement already satisfied: certifi>=2016.8.2 in /usr/local/lib/python3.7/dist-packages (from wfdb) (2020.12.5)\n",
      "Requirement already satisfied: pytz>=2017.2 in /usr/local/lib/python3.7/dist-packages (from wfdb) (2018.9)\n",
      "Requirement already satisfied: chardet>=3.0.0 in /usr/local/lib/python3.7/dist-packages (from wfdb) (3.0.4)\n",
      "Requirement already satisfied: pandas>=0.17.0 in /usr/local/lib/python3.7/dist-packages (from wfdb) (1.1.5)\n",
      "Requirement already satisfied: scikit-learn>=0.18 in /usr/local/lib/python3.7/dist-packages (from wfdb) (0.22.2.post1)\n",
      "Requirement already satisfied: scipy>=0.17.0 in /usr/local/lib/python3.7/dist-packages (from wfdb) (1.4.1)\n",
      "Collecting threadpoolctl>=1.0.0\n",
      "  Downloading https://files.pythonhosted.org/packages/f7/12/ec3f2e203afa394a149911729357aa48affc59c20e2c1c8297a60f33f133/threadpoolctl-2.1.0-py3-none-any.whl\n",
      "Requirement already satisfied: matplotlib>=2.0.0 in /usr/local/lib/python3.7/dist-packages (from wfdb) (3.2.2)\n",
      "Requirement already satisfied: kiwisolver>=1.1.0 in /usr/local/lib/python3.7/dist-packages (from wfdb) (1.3.1)\n",
      "Requirement already satisfied: numpy>=1.10.1 in /usr/local/lib/python3.7/dist-packages (from wfdb) (1.19.5)\n",
      "Requirement already satisfied: idna>=2.2 in /usr/local/lib/python3.7/dist-packages (from wfdb) (2.10)\n",
      "Requirement already satisfied: requests>=2.8.1 in /usr/local/lib/python3.7/dist-packages (from wfdb) (2.23.0)\n",
      "Requirement already satisfied: urllib3>=1.22 in /usr/local/lib/python3.7/dist-packages (from wfdb) (1.24.3)\n",
      "Requirement already satisfied: pyparsing>=2.0.4 in /usr/local/lib/python3.7/dist-packages (from wfdb) (2.4.7)\n",
      "Requirement already satisfied: python-dateutil>=2.4.2 in /usr/local/lib/python3.7/dist-packages (from wfdb) (2.8.1)\n",
      "Requirement already satisfied: joblib>=0.11 in /usr/local/lib/python3.7/dist-packages (from wfdb) (1.0.1)\n",
      "Requirement already satisfied: six in /usr/local/lib/python3.7/dist-packages (from cycler>=0.10.0->wfdb) (1.15.0)\n",
      "Installing collected packages: threadpoolctl, wfdb\n",
      "Successfully installed threadpoolctl-2.1.0 wfdb-3.3.0\n"
     ]
    }
   ],
   "source": [
    "pip install wfdb"
   ]
  },
  {
   "cell_type": "markdown",
   "metadata": {
    "id": "VhevX4UyJ6U8"
   },
   "source": [
    "Let's load all the annotations and see the distribution of heart beat types across all files."
   ]
  },
  {
   "cell_type": "code",
   "execution_count": null,
   "metadata": {
    "id": "3lzCUN6ntcfH"
   },
   "outputs": [],
   "source": [
    "import wfdb\n",
    "df = pd.DataFrame()\n",
    "\n",
    "for pt in pts:\n",
    "    file = data_path + pt\n",
    "    annotation = wfdb.rdann(file, 'atr')\n",
    "    sym = annotation.symbol\n",
    "    \n",
    "    values, counts = np.unique(sym, return_counts=True)\n",
    "    df_sub = pd.DataFrame({'sym':values, 'val':counts, 'pt':[pt]*len(counts)})\n",
    "    df = pd.concat([df, df_sub],axis = 0)"
   ]
  },
  {
   "cell_type": "code",
   "execution_count": null,
   "metadata": {
    "colab": {
     "base_uri": "https://localhost:8080/"
    },
    "executionInfo": {
     "elapsed": 750,
     "status": "ok",
     "timestamp": 1620979472924,
     "user": {
      "displayName": "surya teja",
      "photoUrl": "https://lh3.googleusercontent.com/a-/AOh14Gi1OaMrpEyGpWEiPRm_1uIW5IQcQml4T-ECMAX-MRE=s64",
      "userId": "10402361330384344484"
     },
     "user_tz": -600
    },
    "id": "Fs01a4KltcfI",
    "outputId": "7a8be338-5f41-4203-8260-e6b18b7c7ce6"
   },
   "outputs": [
    {
     "data": {
      "text/plain": [
       "sym\n",
       "N    75052\n",
       "L     8075\n",
       "R     7259\n",
       "V     7130\n",
       "/     7028\n",
       "A     2546\n",
       "+     1291\n",
       "f      982\n",
       "F      803\n",
       "~      616\n",
       "!      472\n",
       "\"      437\n",
       "j      229\n",
       "x      193\n",
       "a      150\n",
       "|      132\n",
       "E      106\n",
       "J       83\n",
       "Q       33\n",
       "e       16\n",
       "[        6\n",
       "]        6\n",
       "S        2\n",
       "Name: val, dtype: int64"
      ]
     },
     "execution_count": 6,
     "metadata": {
      "tags": []
     },
     "output_type": "execute_result"
    }
   ],
   "source": [
    "df.groupby('sym').val.sum().sort_values(ascending = False)"
   ]
  },
  {
   "cell_type": "code",
   "execution_count": null,
   "metadata": {
    "id": "9u3eoBmgtcfI"
   },
   "outputs": [],
   "source": [
    "# list of nonbeat and abnormal\n",
    "nonbeat = ['[','!',']','x','(',')','p','t','u','`',\n",
    "           '\\'','^','|','~','+','s','T','*','D','=','\"','@','Q','?']\n",
    "abnormal = ['L','R','V','/','A','f','F','j','a','E','J','e','S']"
   ]
  },
  {
   "cell_type": "code",
   "execution_count": null,
   "metadata": {
    "id": "LbkOAmjHtcfJ"
   },
   "outputs": [],
   "source": [
    "# break into normal, abnormal or nonbeat\n",
    "df['cat'] = -1\n",
    "df.loc[df.sym == 'N','cat'] = 0\n",
    "df.loc[df.sym.isin(abnormal), 'cat'] = 1"
   ]
  },
  {
   "cell_type": "code",
   "execution_count": null,
   "metadata": {
    "colab": {
     "base_uri": "https://localhost:8080/"
    },
    "executionInfo": {
     "elapsed": 742,
     "status": "ok",
     "timestamp": 1620979477644,
     "user": {
      "displayName": "surya teja",
      "photoUrl": "https://lh3.googleusercontent.com/a-/AOh14Gi1OaMrpEyGpWEiPRm_1uIW5IQcQml4T-ECMAX-MRE=s64",
      "userId": "10402361330384344484"
     },
     "user_tz": -600
    },
    "id": "lUZQhpTDtcfJ",
    "outputId": "1d302705-aad6-46ca-8921-7d4a2ea591cf"
   },
   "outputs": [
    {
     "data": {
      "text/plain": [
       "cat\n",
       "-1     3186\n",
       " 0    75052\n",
       " 1    34409\n",
       "Name: val, dtype: int64"
      ]
     },
     "execution_count": 9,
     "metadata": {
      "tags": []
     },
     "output_type": "execute_result"
    }
   ],
   "source": [
    "df.groupby('cat').val.sum()"
   ]
  },
  {
   "cell_type": "markdown",
   "metadata": {
    "id": "f2DASozSKABs"
   },
   "source": [
    "function for loading a single patient's signals and annotations. Note the annotation values are the indices of the signal array."
   ]
  },
  {
   "cell_type": "code",
   "execution_count": null,
   "metadata": {
    "id": "FxnXAaHutcfJ"
   },
   "outputs": [],
   "source": [
    "def load_ecg(file):\n",
    "    # load the ecg\n",
    "    # example file: 'mit-bih-arrhythmia-database-1.0.0/101'\n",
    "    \n",
    "    # load the ecg\n",
    "    record = wfdb.rdrecord(file)\n",
    "    # load the annotation\n",
    "    annotation = wfdb.rdann(file, 'atr')\n",
    "    \n",
    "    # extract the signal\n",
    "    p_signal = record.p_signal\n",
    "    \n",
    "    # verify frequency is 360\n",
    "    assert record.fs == 360, 'sample freq is not 360'\n",
    "    \n",
    "    # extract symbols and annotation index\n",
    "    atr_sym = annotation.symbol\n",
    "    atr_sample = annotation.sample\n",
    "    \n",
    "    return p_signal, atr_sym, atr_sample "
   ]
  },
  {
   "cell_type": "markdown",
   "metadata": {
    "id": "YcbsLcAyKF95"
   },
   "source": [
    "checking for what abnormal beats are in a patient's ecg:"
   ]
  },
  {
   "cell_type": "code",
   "execution_count": null,
   "metadata": {
    "id": "p51KXu-GtcfK"
   },
   "outputs": [],
   "source": [
    "file = data_path + pts[0]"
   ]
  },
  {
   "cell_type": "code",
   "execution_count": null,
   "metadata": {
    "id": "rcCHNsCZtcfK"
   },
   "outputs": [],
   "source": [
    "p_signal, atr_sym, atr_sample = load_ecg(file)"
   ]
  },
  {
   "cell_type": "code",
   "execution_count": null,
   "metadata": {
    "colab": {
     "base_uri": "https://localhost:8080/"
    },
    "executionInfo": {
     "elapsed": 715,
     "status": "ok",
     "timestamp": 1620979486496,
     "user": {
      "displayName": "surya teja",
      "photoUrl": "https://lh3.googleusercontent.com/a-/AOh14Gi1OaMrpEyGpWEiPRm_1uIW5IQcQml4T-ECMAX-MRE=s64",
      "userId": "10402361330384344484"
     },
     "user_tz": -600
    },
    "id": "cers8goGtcfK",
    "outputId": "146292e0-6230-49f8-e19b-1c0768942d82"
   },
   "outputs": [
    {
     "name": "stdout",
     "output_type": "stream",
     "text": [
      "+ 3\n",
      "J 50\n",
      "N 2700\n",
      "V 3\n",
      "~ 8\n"
     ]
    }
   ],
   "source": [
    "values, counts = np.unique(sym, return_counts=True)\n",
    "for v,c in zip(values, counts):\n",
    "    print(v,c)"
   ]
  },
  {
   "cell_type": "markdown",
   "metadata": {
    "id": "xbb-oAeEKMwf"
   },
   "source": [
    "Let's make a plot of these, zooming in on one of the abnormal beats"
   ]
  },
  {
   "cell_type": "code",
   "execution_count": null,
   "metadata": {
    "colab": {
     "base_uri": "https://localhost:8080/"
    },
    "executionInfo": {
     "elapsed": 558,
     "status": "ok",
     "timestamp": 1620979487693,
     "user": {
      "displayName": "surya teja",
      "photoUrl": "https://lh3.googleusercontent.com/a-/AOh14Gi1OaMrpEyGpWEiPRm_1uIW5IQcQml4T-ECMAX-MRE=s64",
      "userId": "10402361330384344484"
     },
     "user_tz": -600
    },
    "id": "fi1f5gUJtcfK",
    "outputId": "f2d874d0-7dbb-4a25-e0c5-47c71bd2e6fb"
   },
   "outputs": [
    {
     "data": {
      "text/plain": [
       "[2044, 66792, 74986, 99579, 128085, 170719, 279576, 305709, 307745, 312825]"
      ]
     },
     "execution_count": 14,
     "metadata": {
      "tags": []
     },
     "output_type": "execute_result"
    }
   ],
   "source": [
    "# get abnormal beat index\n",
    "ab_index = [b for a,b in zip(atr_sym,atr_sample) if a in abnormal][:10]\n",
    "ab_index"
   ]
  },
  {
   "cell_type": "code",
   "execution_count": null,
   "metadata": {
    "id": "AC2Kt6IwtcfL"
   },
   "outputs": [],
   "source": [
    "x = np.arange(len(p_signal))"
   ]
  },
  {
   "cell_type": "code",
   "execution_count": null,
   "metadata": {
    "colab": {
     "base_uri": "https://localhost:8080/",
     "height": 279
    },
    "executionInfo": {
     "elapsed": 875,
     "status": "ok",
     "timestamp": 1620979491700,
     "user": {
      "displayName": "surya teja",
      "photoUrl": "https://lh3.googleusercontent.com/a-/AOh14Gi1OaMrpEyGpWEiPRm_1uIW5IQcQml4T-ECMAX-MRE=s64",
      "userId": "10402361330384344484"
     },
     "user_tz": -600
    },
    "id": "9pUfz7VntcfL",
    "outputId": "d35a37c2-721f-4b2e-9ff4-9490956d6c85"
   },
   "outputs": [
    {
     "data": {
      "image/png": "[encoded data removed]",
      "text/plain": [
       "<Figure size 432x288 with 1 Axes>"
      ]
     },
     "metadata": {
      "needs_background": "light",
      "tags": []
     },
     "output_type": "display_data"
    }
   ],
   "source": [
    "left = ab_index[1]-20800\n",
    "right = ab_index[1]+20800\n",
    "\n",
    "plt.plot(x[left:right],p_signal[left:right,0],'-',label='ecg',)\n",
    "plt.plot(x[atr_sample],p_signal[atr_sample,0],'go',label ='normal')\n",
    "plt.plot(x[ab_index],p_signal[ab_index,0],'ro',label='abnormal')\n",
    "\n",
    "plt.xlim(left,right)\n",
    "plt.ylim(p_signal[left:right].min()-0.05,p_signal[left:right,0].max()+0.05)\n",
    "plt.xlabel('time index')\n",
    "plt.ylabel('ECG signal')\n",
    "plt.legend(bbox_to_anchor = (1.04,1), loc = 'upper left')\n",
    "plt.show()"
   ]
  },
  {
   "cell_type": "markdown",
   "metadata": {
    "id": "cRgh2YzvKRFz"
   },
   "source": [
    "# Make a dataset\n",
    "Let's make a dataset that is centered on beats with +- 3 seconds before and after. "
   ]
  },
  {
   "cell_type": "code",
   "execution_count": null,
   "metadata": {
    "id": "Zq-z4bAVtcfL"
   },
   "outputs": [],
   "source": [
    "def make_dataset(pts, num_sec, fs, abnormal):\n",
    "    # function for making dataset ignoring non-beats\n",
    "    # input:\n",
    "    # pts - list of patients\n",
    "    # num_sec = number of seconds to include before and after the beat\n",
    "    # fs = frequency\n",
    "    # output: \n",
    "    #   X_all = signal (nbeats , num_sec * fs columns)\n",
    "    #   Y_all = binary is abnormal (nbeats, 1)\n",
    "    #   sym_all = beat annotation symbol (nbeats,1)\n",
    "    \n",
    "    # initialize numpy arrays\n",
    "    num_cols = 2*num_sec * fs\n",
    "    X_all = np.zeros((1,num_cols))\n",
    "    Y_all = np.zeros((1,1))\n",
    "    sym_all = []\n",
    "    \n",
    "    # list to keep track of number of beats across patients\n",
    "    max_rows = []\n",
    "    \n",
    "    for pt in pts:\n",
    "        file = data_path + pt\n",
    "        \n",
    "        p_signal, atr_sym, atr_sample = load_ecg(file)\n",
    "        \n",
    "        # grab the first signal\n",
    "        p_signal = p_signal[:,0]\n",
    "        \n",
    "        # make df to exclude the nonbeats\n",
    "        df_ann = pd.DataFrame({'atr_sym':atr_sym,\n",
    "                              'atr_sample':atr_sample})\n",
    "        df_ann = df_ann.loc[df_ann.atr_sym.isin(abnormal + ['N'])]\n",
    "        \n",
    "        X,Y,sym = build_XY(p_signal,df_ann, num_cols, abnormal)\n",
    "        sym_all = sym_all+sym\n",
    "        max_rows.append(X.shape[0])\n",
    "        X_all = np.append(X_all,X,axis = 0)\n",
    "        Y_all = np.append(Y_all,Y,axis = 0)\n",
    "    # drop the first zero row\n",
    "    X_all = X_all[1:,:]\n",
    "    Y_all = Y_all[1:,:]\n",
    "    \n",
    "    # check sizes make sense\n",
    "    assert np.sum(max_rows) == X_all.shape[0], 'number of X, max_rows rows messed up'\n",
    "    assert Y_all.shape[0] == X_all.shape[0], 'number of X, Y rows messed up'\n",
    "    assert Y_all.shape[0] == len(sym_all), 'number of Y, sym rows messed up'\n",
    "\n",
    "    return X_all, Y_all, sym_all\n",
    "\n",
    "\n",
    "\n",
    "def build_XY(p_signal, df_ann, num_cols, abnormal):\n",
    "    # this function builds the X,Y matrices for each beat\n",
    "    # it also returns the original symbols for Y\n",
    "    \n",
    "    num_rows = len(df_ann)\n",
    "\n",
    "    X = np.zeros((num_rows, num_cols))\n",
    "    Y = np.zeros((num_rows,1))\n",
    "    sym = []\n",
    "    \n",
    "    # keep track of rows\n",
    "    max_row = 0\n",
    "\n",
    "    for atr_sample, atr_sym in zip(df_ann.atr_sample.values,df_ann.atr_sym.values):\n",
    "\n",
    "        left = max([0,(atr_sample - num_sec*fs) ])\n",
    "        right = min([len(p_signal),(atr_sample + num_sec*fs) ])\n",
    "        x = p_signal[left: right]\n",
    "        if len(x) == num_cols:\n",
    "            X[max_row,:] = x\n",
    "            Y[max_row,:] = int(atr_sym in abnormal)\n",
    "            sym.append(atr_sym)\n",
    "            max_row += 1\n",
    "    X = X[:max_row,:]\n",
    "    Y = Y[:max_row,:]\n",
    "    return X,Y,sym\n",
    "    "
   ]
  },
  {
   "cell_type": "markdown",
   "metadata": {
    "id": "YfJSJvZjKmMd"
   },
   "source": [
    "# Split on patients not on samples\n",
    " start by processing all of our patients."
   ]
  },
  {
   "cell_type": "code",
   "execution_count": null,
   "metadata": {
    "id": "CFlZDy5btcfM"
   },
   "outputs": [],
   "source": [
    "num_sec = 3\n",
    "fs = 360"
   ]
  },
  {
   "cell_type": "code",
   "execution_count": null,
   "metadata": {
    "id": "PI2MiYRvtcfM"
   },
   "outputs": [],
   "source": [
    "X_all, Y_all, sym_all = make_dataset(pts, num_sec, fs, abnormal)"
   ]
  },
  {
   "cell_type": "code",
   "execution_count": null,
   "metadata": {
    "id": "SpCyNaettcfN"
   },
   "outputs": [],
   "source": [
    "from sklearn.model_selection import train_test_split\n",
    "\n",
    "X_train, X_test, y_train, y_test = train_test_split(X_all, Y_all, test_size=0.33, random_state=42)"
   ]
  },
  {
   "cell_type": "code",
   "execution_count": null,
   "metadata": {
    "id": "_QlPGLxGtcfN"
   },
   "outputs": [],
   "source": [
    "##Feature scaling\n",
    "from sklearn.preprocessing import StandardScaler\n",
    "sc = StandardScaler()\n",
    "X_train = sc.fit_transform(X_train)\n",
    "X_test = sc.transform(X_test)"
   ]
  },
  {
   "cell_type": "code",
   "execution_count": null,
   "metadata": {
    "colab": {
     "base_uri": "https://localhost:8080/"
    },
    "executionInfo": {
     "elapsed": 5394,
     "status": "ok",
     "timestamp": 1620978261347,
     "user": {
      "displayName": "surya teja",
      "photoUrl": "https://lh3.googleusercontent.com/a-/AOh14Gi1OaMrpEyGpWEiPRm_1uIW5IQcQml4T-ECMAX-MRE=s64",
      "userId": "10402361330384344484"
     },
     "user_tz": -600
    },
    "id": "Do2RoR9Jv0CK",
    "outputId": "9727b476-d552-4ed9-f3e6-9a84cfd1b8f9"
   },
   "outputs": [
    {
     "name": "stdout",
     "output_type": "stream",
     "text": [
      "\u001b[?25l\r",
      "\u001b[K     |█████▏                          | 10kB 24.7MB/s eta 0:00:01\r",
      "\u001b[K     |██████████▍                     | 20kB 30.2MB/s eta 0:00:01\r",
      "\u001b[K     |███████████████▋                | 30kB 25.6MB/s eta 0:00:01\r",
      "\u001b[K     |████████████████████▉           | 40kB 18.9MB/s eta 0:00:01\r",
      "\u001b[K     |██████████████████████████      | 51kB 9.7MB/s eta 0:00:01\r",
      "\u001b[K     |███████████████████████████████▎| 61kB 8.7MB/s eta 0:00:01\r",
      "\u001b[K     |████████████████████████████████| 71kB 5.5MB/s \n",
      "\u001b[?25h  Building wheel for keras-tuner (setup.py) ... \u001b[?25l\u001b[?25hdone\n",
      "  Building wheel for terminaltables (setup.py) ... \u001b[?25l\u001b[?25hdone\n"
     ]
    }
   ],
   "source": [
    "pip install -q -U keras-tuner"
   ]
  },
  {
   "cell_type": "code",
   "execution_count": null,
   "metadata": {
    "id": "x5SNDg-RtcfO"
   },
   "outputs": [],
   "source": [
    "import tensorflow as tf\n",
    "from tensorflow import keras\n",
    "import numpy as np\n",
    "from keras.models import Sequential\n",
    "from keras.layers import Dense, Flatten, Dropout\n",
    "from keras.utils import to_categorical\n",
    "from tensorflow.keras import layers\n",
    "from kerastuner.tuners import RandomSearch"
   ]
  },
  {
   "cell_type": "markdown",
   "metadata": {
    "id": "U5KAcytbKwlz"
   },
   "source": [
    "Lest create a model which shows how may hyperparameters that can be used in this model. For the better evaluation purpose"
   ]
  },
  {
   "cell_type": "code",
   "execution_count": 62,
   "metadata": {
    "executionInfo": {
     "elapsed": 831,
     "status": "ok",
     "timestamp": 1620982469196,
     "user": {
      "displayName": "surya teja",
      "photoUrl": "https://lh3.googleusercontent.com/a-/AOh14Gi1OaMrpEyGpWEiPRm_1uIW5IQcQml4T-ECMAX-MRE=s64",
      "userId": "10402361330384344484"
     },
     "user_tz": -600
    },
    "id": "KlxjEJ6FtcfO"
   },
   "outputs": [],
   "source": [
    "## Perform Hyperparameter Optimization\n",
    "\n",
    "from keras.wrappers.scikit_learn import KerasClassifier\n",
    "from sklearn.model_selection import GridSearchCV\n",
    "\n",
    "from keras.models import Sequential\n",
    "from keras.layers import Dense, Activation, Embedding, Flatten, LeakyReLU, BatchNormalization, Dropout\n",
    "from keras.activations import relu, sigmoid\n",
    "\n",
    "\n",
    "\n",
    "def create_model(layers, activation):\n",
    "    model = Sequential()\n",
    "    for i, nodes in enumerate(layers):\n",
    "        if i==0:\n",
    "            model.add(Dense(nodes,input_dim=X_train.shape[1]))\n",
    "            model.add(Activation(activation))\n",
    "            model.add(Dropout(0.3))\n",
    "        else:\n",
    "            model.add(Dense(nodes))\n",
    "            model.add(Activation(activation))\n",
    "            model.add(Dropout(0.3))\n",
    "            \n",
    "    model.add(Dense(units = 1, kernel_initializer= 'glorot_uniform', activation = 'sigmoid')) # Note: no activation beyond this point\n",
    "    \n",
    "    model.compile(optimizer='adam', loss='binary_crossentropy',metrics=['accuracy'])\n",
    "    return model"
   ]
  },
  {
   "cell_type": "code",
   "execution_count": null,
   "metadata": {
    "colab": {
     "base_uri": "https://localhost:8080/"
    },
    "executionInfo": {
     "elapsed": 1043,
     "status": "ok",
     "timestamp": 1620979535658,
     "user": {
      "displayName": "surya teja",
      "photoUrl": "https://lh3.googleusercontent.com/a-/AOh14Gi1OaMrpEyGpWEiPRm_1uIW5IQcQml4T-ECMAX-MRE=s64",
      "userId": "10402361330384344484"
     },
     "user_tz": -600
    },
    "id": "KLrpyFbltcfO",
    "outputId": "18c98bee-59c8-455a-f51a-359da3f86019"
   },
   "outputs": [
    {
     "data": {
      "text/plain": [
       "2160"
      ]
     },
     "execution_count": 24,
     "metadata": {
      "tags": []
     },
     "output_type": "execute_result"
    }
   ],
   "source": [
    "X_train.shape[1]"
   ]
  },
  {
   "cell_type": "code",
   "execution_count": 63,
   "metadata": {
    "executionInfo": {
     "elapsed": 730,
     "status": "ok",
     "timestamp": 1620982474958,
     "user": {
      "displayName": "surya teja",
      "photoUrl": "https://lh3.googleusercontent.com/a-/AOh14Gi1OaMrpEyGpWEiPRm_1uIW5IQcQml4T-ECMAX-MRE=s64",
      "userId": "10402361330384344484"
     },
     "user_tz": -600
    },
    "id": "IO_0D0hdtcfP"
   },
   "outputs": [],
   "source": [
    "model = KerasClassifier(build_fn=create_model, verbose=0)"
   ]
  },
  {
   "cell_type": "code",
   "execution_count": null,
   "metadata": {
    "id": "6tKkx_ZutcfP"
   },
   "outputs": [],
   "source": [
    "layers = [[20], [40, 20]]\n",
    "activations = ['sigmoid', 'relu']\n",
    "param_grid = dict(layers=layers, activation=activations, batch_size = [128, 256], epochs=[30])\n",
    "grid = GridSearchCV(estimator=model, param_grid=param_grid,cv=5)\n",
    "grid_result = grid.fit(X_train, y_train)"
   ]
  },
  {
   "cell_type": "code",
   "execution_count": null,
   "metadata": {
    "id": "4GFI5eK9tcfP",
    "outputId": "6ade1ffe-f19d-46a8-812c-7f082647d19c"
   },
   "outputs": [
    {
     "name": "stdout",
     "output_type": "stream",
     "text": [
      "0.9764145846997764 {'activation': 'relu', 'batch_size': 256, 'epochs': 30, 'layers': [40, 20]}\n"
     ]
    }
   ],
   "source": [
    "print(grid_result.best_score_,grid_result.best_params_)"
   ]
  },
  {
   "cell_type": "markdown",
   "metadata": {
    "id": "3gByYCw6LDPw"
   },
   "source": [
    "Lest make our dense neural network as per the produced result"
   ]
  },
  {
   "cell_type": "markdown",
   "metadata": {
    "id": "C-4gw8vuLO0d"
   },
   "source": [
    "Imagine we naively just decided to randomly split our data by samples into a train and validation set."
   ]
  },
  {
   "cell_type": "markdown",
   "metadata": {
    "id": "U04mv-kgLeTj"
   },
   "source": [
    "# DNN"
   ]
  },
  {
   "cell_type": "code",
   "execution_count": null,
   "metadata": {
    "id": "H0tPVhFHtcfQ"
   },
   "outputs": [],
   "source": [
    "## Implementing the same and checing the results\n",
    "model = Sequential()\n",
    "model.add(Dense(40, activation = 'relu', input_dim = X_train.shape[1]))\n",
    "model.add(Dropout(rate = 0.25))\n",
    "model.add(Dense(20, activation = 'relu', input_dim = X_train.shape[1]))\n",
    "model.add(Dropout(rate = 0.25))\n",
    "model.add(Dense(units = 1, kernel_initializer= 'glorot_uniform', activation = 'sigmoid')) # Note: no activation beyond this point\n",
    "model.compile(optimizer='adam', loss='binary_crossentropy',metrics=['accuracy'])"
   ]
  },
  {
   "cell_type": "code",
   "execution_count": null,
   "metadata": {
    "colab": {
     "base_uri": "https://localhost:8080/"
    },
    "executionInfo": {
     "elapsed": 13893,
     "status": "ok",
     "timestamp": 1620979571440,
     "user": {
      "displayName": "surya teja",
      "photoUrl": "https://lh3.googleusercontent.com/a-/AOh14Gi1OaMrpEyGpWEiPRm_1uIW5IQcQml4T-ECMAX-MRE=s64",
      "userId": "10402361330384344484"
     },
     "user_tz": -600
    },
    "id": "E_gFKfD_tcfQ",
    "outputId": "0dd72880-6b40-4117-da3c-9f38cf65de46"
   },
   "outputs": [
    {
     "name": "stdout",
     "output_type": "stream",
     "text": [
      "Epoch 1/10\n",
      "286/286 [==============================] - 4s 3ms/step - loss: 0.5084 - accuracy: 0.7618\n",
      "Epoch 2/10\n",
      "286/286 [==============================] - 1s 3ms/step - loss: 0.1996 - accuracy: 0.9327\n",
      "Epoch 3/10\n",
      "286/286 [==============================] - 1s 3ms/step - loss: 0.1543 - accuracy: 0.9496\n",
      "Epoch 4/10\n",
      "286/286 [==============================] - 1s 3ms/step - loss: 0.1399 - accuracy: 0.9562\n",
      "Epoch 5/10\n",
      "286/286 [==============================] - 1s 3ms/step - loss: 0.1282 - accuracy: 0.9595\n",
      "Epoch 6/10\n",
      "286/286 [==============================] - 1s 3ms/step - loss: 0.1176 - accuracy: 0.9619\n",
      "Epoch 7/10\n",
      "286/286 [==============================] - 1s 3ms/step - loss: 0.1084 - accuracy: 0.9649\n",
      "Epoch 8/10\n",
      "286/286 [==============================] - 1s 3ms/step - loss: 0.1010 - accuracy: 0.9668\n",
      "Epoch 9/10\n",
      "286/286 [==============================] - 1s 3ms/step - loss: 0.0971 - accuracy: 0.9685\n",
      "Epoch 10/10\n",
      "286/286 [==============================] - 1s 3ms/step - loss: 0.0913 - accuracy: 0.9692\n"
     ]
    },
    {
     "data": {
      "text/plain": [
       "<tensorflow.python.keras.callbacks.History at 0x7fb22042ca50>"
      ]
     },
     "execution_count": 27,
     "metadata": {
      "tags": []
     },
     "output_type": "execute_result"
    }
   ],
   "source": [
    "model.fit(X_train, y_train, batch_size = 256, epochs= 10, verbose = 1)"
   ]
  },
  {
   "cell_type": "code",
   "execution_count": null,
   "metadata": {
    "colab": {
     "base_uri": "https://localhost:8080/"
    },
    "executionInfo": {
     "elapsed": 721,
     "status": "ok",
     "timestamp": 1620979574517,
     "user": {
      "displayName": "surya teja",
      "photoUrl": "https://lh3.googleusercontent.com/a-/AOh14Gi1OaMrpEyGpWEiPRm_1uIW5IQcQml4T-ECMAX-MRE=s64",
      "userId": "10402361330384344484"
     },
     "user_tz": -600
    },
    "id": "MgZugZbttcfQ",
    "outputId": "98621838-e798-4d71-b1d0-cbbad0ccff66"
   },
   "outputs": [
    {
     "name": "stdout",
     "output_type": "stream",
     "text": [
      "Model: \"sequential\"\n",
      "_________________________________________________________________\n",
      "Layer (type)                 Output Shape              Param #   \n",
      "=================================================================\n",
      "dense (Dense)                (None, 40)                86440     \n",
      "_________________________________________________________________\n",
      "dropout (Dropout)            (None, 40)                0         \n",
      "_________________________________________________________________\n",
      "dense_1 (Dense)              (None, 20)                820       \n",
      "_________________________________________________________________\n",
      "dropout_1 (Dropout)          (None, 20)                0         \n",
      "_________________________________________________________________\n",
      "dense_2 (Dense)              (None, 1)                 21        \n",
      "=================================================================\n",
      "Total params: 87,281\n",
      "Trainable params: 87,281\n",
      "Non-trainable params: 0\n",
      "_________________________________________________________________\n"
     ]
    }
   ],
   "source": [
    "model.summary()"
   ]
  },
  {
   "cell_type": "code",
   "execution_count": null,
   "metadata": {
    "id": "-vtMAAzNtcfQ"
   },
   "outputs": [],
   "source": [
    "from sklearn.metrics import roc_auc_score, accuracy_score, precision_score, recall_score\n",
    "def calc_prevalence(y_actual):\n",
    "    return (sum(y_actual)/len(y_actual))\n",
    "def calc_specificity(y_actual, y_pred, thresh):\n",
    "    # calculates specificity\n",
    "    return sum((y_pred < thresh) & (y_actual == 0)) /sum(y_actual ==0)\n",
    "def print_report(y_actual, y_pred, thresh):\n",
    "    \n",
    "    auc = roc_auc_score(y_actual, y_pred)\n",
    "    accuracy = accuracy_score(y_actual, (y_pred > thresh))\n",
    "    recall = recall_score(y_actual, (y_pred > thresh))\n",
    "    precision = precision_score(y_actual, (y_pred > thresh))\n",
    "    specificity = calc_specificity(y_actual, y_pred, thresh)\n",
    "    print('AUC:%.3f'%auc)\n",
    "    print('accuracy:%.3f'%accuracy)\n",
    "    print('recall:%.3f'%recall)\n",
    "    print('precision:%.3f'%precision)\n",
    "    print('specificity:%.3f'%specificity)\n",
    "    print('prevalence:%.3f'%calc_prevalence(y_actual))\n",
    "    print(' ')\n",
    "    return auc, accuracy, recall, precision, specificity"
   ]
  },
  {
   "cell_type": "code",
   "execution_count": null,
   "metadata": {
    "colab": {
     "base_uri": "https://localhost:8080/"
    },
    "executionInfo": {
     "elapsed": 7084,
     "status": "ok",
     "timestamp": 1620979587339,
     "user": {
      "displayName": "surya teja",
      "photoUrl": "https://lh3.googleusercontent.com/a-/AOh14Gi1OaMrpEyGpWEiPRm_1uIW5IQcQml4T-ECMAX-MRE=s64",
      "userId": "10402361330384344484"
     },
     "user_tz": -600
    },
    "id": "2lWyfhCBtcfR",
    "outputId": "b1803c3e-91a6-40cd-aa33-45f02e8f8400"
   },
   "outputs": [
    {
     "name": "stderr",
     "output_type": "stream",
     "text": [
      "/usr/local/lib/python3.7/dist-packages/tensorflow/python/keras/engine/sequential.py:425: UserWarning: `model.predict_proba()` is deprecated and will be removed after 2021-01-01. Please use `model.predict()` instead.\n",
      "  warnings.warn('`model.predict_proba()` is deprecated and '\n"
     ]
    },
    {
     "name": "stdout",
     "output_type": "stream",
     "text": [
      "2285/2285 [==============================] - 3s 1ms/step\n",
      "1126/1126 [==============================] - 1s 1ms/step\n"
     ]
    },
    {
     "data": {
      "text/plain": [
       "0.3147641457808909"
      ]
     },
     "execution_count": 30,
     "metadata": {
      "tags": []
     },
     "output_type": "execute_result"
    }
   ],
   "source": [
    "y_train_dense_resul = model.predict_proba(X_train,verbose = 1)\n",
    "y_test_dense_resul = model.predict_proba(X_test,verbose = 1)\n",
    "thresh = (sum(y_train)/len(y_train))[0]\n",
    "thresh"
   ]
  },
  {
   "cell_type": "code",
   "execution_count": null,
   "metadata": {
    "colab": {
     "base_uri": "https://localhost:8080/"
    },
    "executionInfo": {
     "elapsed": 1218,
     "status": "ok",
     "timestamp": 1620979590724,
     "user": {
      "displayName": "surya teja",
      "photoUrl": "https://lh3.googleusercontent.com/a-/AOh14Gi1OaMrpEyGpWEiPRm_1uIW5IQcQml4T-ECMAX-MRE=s64",
      "userId": "10402361330384344484"
     },
     "user_tz": -600
    },
    "id": "sxRenjOAtcfR",
    "outputId": "ed37f1d6-d8eb-4eac-bef2-21260756ea6f"
   },
   "outputs": [
    {
     "name": "stdout",
     "output_type": "stream",
     "text": [
      "Train\n",
      "AUC:0.997\n",
      "accuracy:0.977\n",
      "recall:0.964\n",
      "precision:0.962\n",
      "specificity:0.982\n",
      "prevalence:0.315\n",
      " \n",
      "Test\n",
      "AUC:0.993\n",
      "accuracy:0.970\n",
      "recall:0.953\n",
      "precision:0.951\n",
      "specificity:0.978\n",
      "prevalence:0.314\n",
      " \n"
     ]
    }
   ],
   "source": [
    "print('Train');\n",
    "print_report(y_train, y_train_dense_resul, thresh)\n",
    "print('Test');\n",
    "print_report(y_test, y_test_dense_resul, thresh);"
   ]
  },
  {
   "cell_type": "markdown",
   "metadata": {
    "id": "K-ale08htcfR"
   },
   "source": [
    "Amazing! Not that hard! But wait, will this work on new patients? Perhaps not if each patient has a unique heart signature. Technically the same patient can show up in both the training and validation sets. This means that we may have accidentally leaked information across the datasets. "
   ]
  },
  {
   "cell_type": "markdown",
   "metadata": {
    "id": "-em3A-1yLiel"
   },
   "source": [
    "# DNN based on the sample data to avoid overfitting"
   ]
  },
  {
   "cell_type": "code",
   "execution_count": null,
   "metadata": {
    "colab": {
     "base_uri": "https://localhost:8080/"
    },
    "executionInfo": {
     "elapsed": 771,
     "status": "ok",
     "timestamp": 1620979596273,
     "user": {
      "displayName": "surya teja",
      "photoUrl": "https://lh3.googleusercontent.com/a-/AOh14Gi1OaMrpEyGpWEiPRm_1uIW5IQcQml4T-ECMAX-MRE=s64",
      "userId": "10402361330384344484"
     },
     "user_tz": -600
    },
    "id": "MPvNEkRMtcfS",
    "outputId": "a8ecf0f8-f629-400c-c4e2-f06c92424e2e"
   },
   "outputs": [
    {
     "name": "stdout",
     "output_type": "stream",
     "text": [
      "38 10\n"
     ]
    }
   ],
   "source": [
    "import random\n",
    "random.seed( 42 )\n",
    "pts_train = random.sample(pts, 38)\n",
    "pts_test = [pt for pt in pts if pt not in pts_train]\n",
    "print(len(pts_train), len(pts_test))"
   ]
  },
  {
   "cell_type": "code",
   "execution_count": null,
   "metadata": {
    "colab": {
     "base_uri": "https://localhost:8080/"
    },
    "executionInfo": {
     "elapsed": 15174,
     "status": "ok",
     "timestamp": 1620979612105,
     "user": {
      "displayName": "surya teja",
      "photoUrl": "https://lh3.googleusercontent.com/a-/AOh14Gi1OaMrpEyGpWEiPRm_1uIW5IQcQml4T-ECMAX-MRE=s64",
      "userId": "10402361330384344484"
     },
     "user_tz": -600
    },
    "id": "1vTO9TsqtcfS",
    "outputId": "43af9933-076f-4205-a7c7-1c4dd1265863"
   },
   "outputs": [
    {
     "name": "stdout",
     "output_type": "stream",
     "text": [
      "(86170, 2160) (86170, 1) 86170\n",
      "(22929, 2160) (22929, 1) 22929\n"
     ]
    }
   ],
   "source": [
    "X_train, y_train, sym_train = make_dataset(pts_train, num_sec, fs, abnormal)\n",
    "X_test, y_test, sym_test = make_dataset(pts_test, num_sec, fs, abnormal)\n",
    "print(X_train.shape, y_train.shape, len(sym_train))\n",
    "print(X_test.shape, y_test.shape, len(sym_test))"
   ]
  },
  {
   "cell_type": "code",
   "execution_count": null,
   "metadata": {
    "id": "V__avGhytcfS"
   },
   "outputs": [],
   "source": [
    "## Implementing the same and checing the results\n",
    "model = Sequential()\n",
    "model.add(Dense(40, activation = 'relu', input_dim = X_train.shape[1]))\n",
    "model.add(Dropout(rate = 0.25))\n",
    "model.add(Dense(20, activation = 'relu', input_dim = X_train.shape[1]))\n",
    "model.add(Dropout(rate = 0.25))\n",
    "model.add(Dense(units = 1, kernel_initializer= 'glorot_uniform', activation = 'sigmoid')) # Note: no activation beyond this point\n",
    "model.compile(optimizer='adam', loss='binary_crossentropy',metrics=['accuracy'])"
   ]
  },
  {
   "cell_type": "markdown",
   "metadata": {
    "id": "2tqh8_1vLx8t"
   },
   "source": [
    "Dropout:for each batch, a random portion of the outputs are nullified in order to avoid strong dependencies between portions of adjacent layers. This technique is similar to boosting techniques on decision trees."
   ]
  },
  {
   "cell_type": "code",
   "execution_count": null,
   "metadata": {
    "colab": {
     "base_uri": "https://localhost:8080/"
    },
    "executionInfo": {
     "elapsed": 14988,
     "status": "ok",
     "timestamp": 1620979632901,
     "user": {
      "displayName": "surya teja",
      "photoUrl": "https://lh3.googleusercontent.com/a-/AOh14Gi1OaMrpEyGpWEiPRm_1uIW5IQcQml4T-ECMAX-MRE=s64",
      "userId": "10402361330384344484"
     },
     "user_tz": -600
    },
    "id": "DWs_S0CLtcfS",
    "outputId": "dc55c3bc-7d18-485e-9aa2-e813455186c3"
   },
   "outputs": [
    {
     "name": "stdout",
     "output_type": "stream",
     "text": [
      "Epoch 1/10\n",
      "337/337 [==============================] - 2s 4ms/step - loss: 0.3834 - accuracy: 0.8342\n",
      "Epoch 2/10\n",
      "337/337 [==============================] - 1s 4ms/step - loss: 0.1731 - accuracy: 0.9449\n",
      "Epoch 3/10\n",
      "337/337 [==============================] - 1s 4ms/step - loss: 0.1344 - accuracy: 0.9588\n",
      "Epoch 4/10\n",
      "337/337 [==============================] - 1s 4ms/step - loss: 0.1221 - accuracy: 0.9621\n",
      "Epoch 5/10\n",
      "337/337 [==============================] - 1s 4ms/step - loss: 0.1071 - accuracy: 0.9675\n",
      "Epoch 6/10\n",
      "337/337 [==============================] - 1s 4ms/step - loss: 0.1044 - accuracy: 0.9675\n",
      "Epoch 7/10\n",
      "337/337 [==============================] - 1s 4ms/step - loss: 0.0908 - accuracy: 0.9723\n",
      "Epoch 8/10\n",
      "337/337 [==============================] - 1s 4ms/step - loss: 0.0894 - accuracy: 0.9734\n",
      "Epoch 9/10\n",
      "337/337 [==============================] - 1s 4ms/step - loss: 0.0898 - accuracy: 0.9721\n",
      "Epoch 10/10\n",
      "337/337 [==============================] - 1s 4ms/step - loss: 0.0821 - accuracy: 0.9746\n"
     ]
    },
    {
     "data": {
      "text/plain": [
       "<tensorflow.python.keras.callbacks.History at 0x7fb2200bfc10>"
      ]
     },
     "execution_count": 35,
     "metadata": {
      "tags": []
     },
     "output_type": "execute_result"
    }
   ],
   "source": [
    "model.fit(X_train, y_train, batch_size = 256, epochs= 10, verbose = 1)"
   ]
  },
  {
   "cell_type": "code",
   "execution_count": null,
   "metadata": {
    "colab": {
     "base_uri": "https://localhost:8080/"
    },
    "executionInfo": {
     "elapsed": 6455,
     "status": "ok",
     "timestamp": 1620979641395,
     "user": {
      "displayName": "surya teja",
      "photoUrl": "https://lh3.googleusercontent.com/a-/AOh14Gi1OaMrpEyGpWEiPRm_1uIW5IQcQml4T-ECMAX-MRE=s64",
      "userId": "10402361330384344484"
     },
     "user_tz": -600
    },
    "id": "7rE_wDrgtcfS",
    "outputId": "9db5675e-e442-4e37-f892-fc3c5757e238"
   },
   "outputs": [
    {
     "name": "stderr",
     "output_type": "stream",
     "text": [
      "/usr/local/lib/python3.7/dist-packages/tensorflow/python/keras/engine/sequential.py:425: UserWarning: `model.predict_proba()` is deprecated and will be removed after 2021-01-01. Please use `model.predict()` instead.\n",
      "  warnings.warn('`model.predict_proba()` is deprecated and '\n"
     ]
    },
    {
     "name": "stdout",
     "output_type": "stream",
     "text": [
      "2693/2693 [==============================] - 3s 1ms/step\n",
      "717/717 [==============================] - 1s 1ms/step\n"
     ]
    }
   ],
   "source": [
    "y_train_dense_resul = model.predict_proba(X_train,verbose = 1)\n",
    "y_test_dense_resul = model.predict_proba(X_test,verbose = 1)\n",
    "thresh = (sum(y_train)/len(y_train))[0]"
   ]
  },
  {
   "cell_type": "code",
   "execution_count": null,
   "metadata": {
    "colab": {
     "base_uri": "https://localhost:8080/"
    },
    "executionInfo": {
     "elapsed": 2540,
     "status": "ok",
     "timestamp": 1620979645948,
     "user": {
      "displayName": "surya teja",
      "photoUrl": "https://lh3.googleusercontent.com/a-/AOh14Gi1OaMrpEyGpWEiPRm_1uIW5IQcQml4T-ECMAX-MRE=s64",
      "userId": "10402361330384344484"
     },
     "user_tz": -600
    },
    "id": "tIg-rHs4tcfT",
    "outputId": "125e2ad2-a3a1-4862-a38f-39acf5daae92"
   },
   "outputs": [
    {
     "name": "stdout",
     "output_type": "stream",
     "text": [
      "Train\n",
      "AUC:0.996\n",
      "accuracy:0.982\n",
      "recall:0.963\n",
      "precision:0.977\n",
      "specificity:0.990\n",
      "prevalence:0.305\n",
      " \n",
      "Test\n",
      "AUC:0.897\n",
      "accuracy:0.783\n",
      "recall:0.412\n",
      "precision:0.923\n",
      "specificity:0.982\n",
      "prevalence:0.348\n",
      " \n"
     ]
    }
   ],
   "source": [
    "print('Train');\n",
    "print_report(y_train, y_train_dense_resul, thresh)\n",
    "print('Test');\n",
    "print_report(y_test, y_test_dense_resul, thresh);"
   ]
  },
  {
   "cell_type": "markdown",
   "metadata": {},
   "source": [
    "We'll continue working on the other models on the sample data sets."
   ]
  },
  {
   "cell_type": "markdown",
   "metadata": {
    "id": "GFFbY6IUtcfT"
   },
   "source": [
    "## CNN"
   ]
  },
  {
   "cell_type": "markdown",
   "metadata": {
    "id": "roJjhW_lL-zP"
   },
   "source": [
    "Let's start by making a CNN. Here we will use a 1 dimensional CNN. "
   ]
  },
  {
   "cell_type": "markdown",
   "metadata": {
    "id": "ebJQwR2uMBaK"
   },
   "source": [
    "A CNN is a special type of deep learning algorithm which uses a set of filters and the convolution operator to reduce the number of parameters. This algorithm sparked the state-of-the-art techniques for image classification. Essentially, the way this works for 1D CNN is to take a filter (kernel) of size kernel_size starting with the first time stamp. The convolution operator takes the filter and multiplies each element against the first kernel_size time steps. These products are then summed for the first cell in the next layer of the neural network. The filter then moves over by stride time steps and repeats. The default stride in Keras is 1, which we will use. In image classification, most people use padding which allows you pick up some features on the edges of the image by adding 'extra' cells, we will use the default padding which is 0. The output of the convolution is then multiplied by a set of weights W and added to a bias b and then passed through a non-linear activation function as in dense neural network. You can then repeat this with addition CNN layers if desired. Here we will use Dropout which is a technique for reducing overfitting by randomly removing some nodes."
   ]
  },
  {
   "cell_type": "code",
   "execution_count": null,
   "metadata": {
    "colab": {
     "base_uri": "https://localhost:8080/"
    },
    "executionInfo": {
     "elapsed": 733,
     "status": "ok",
     "timestamp": 1620979652947,
     "user": {
      "displayName": "surya teja",
      "photoUrl": "https://lh3.googleusercontent.com/a-/AOh14Gi1OaMrpEyGpWEiPRm_1uIW5IQcQml4T-ECMAX-MRE=s64",
      "userId": "10402361330384344484"
     },
     "user_tz": -600
    },
    "id": "nGjPsMz3tcfT",
    "outputId": "e5716361-eee0-4bab-ec01-231295729e13"
   },
   "outputs": [
    {
     "name": "stdout",
     "output_type": "stream",
     "text": [
      "(86170, 2160, 1)\n",
      "(22929, 2160, 1)\n"
     ]
    }
   ],
   "source": [
    "# reshape input to be [samples, time steps, features = 1]\n",
    "X_train_cnn = np.reshape(X_train, (X_train.shape[0], X_train.shape[1], 1))\n",
    "X_test_cnn = np.reshape(X_test, (X_test.shape[0], X_test.shape[1], 1))\n",
    "\n",
    "print(X_train_cnn.shape)\n",
    "print(X_test_cnn.shape)"
   ]
  },
  {
   "cell_type": "code",
   "execution_count": null,
   "metadata": {
    "id": "fxJG-fJKtcfT"
   },
   "outputs": [],
   "source": [
    "from keras.layers import Conv1D"
   ]
  },
  {
   "cell_type": "code",
   "execution_count": null,
   "metadata": {
    "id": "cLeaDmlrtcfU"
   },
   "outputs": [],
   "source": [
    "model = Sequential()\n",
    "model.add(Conv1D(filters = 128, kernel_size = 3, activation = 'relu', input_shape = (2160,1)))\n",
    "model.add(Dropout(rate = 0.25))\n",
    "model.add(Conv1D(filters = 64, kernel_size = 5, activation = 'relu', input_shape = (2160,1)))\n",
    "model.add(Dropout(rate = 0.25))\n",
    "model.add(Flatten())\n",
    "model.add(Dense(1, activation = 'sigmoid'))\n",
    "\n",
    "# compile the model - use categorical crossentropy, and the adam optimizer\n",
    "model.compile(\n",
    "                loss = 'binary_crossentropy',\n",
    "                optimizer = 'adam',\n",
    "                metrics = ['accuracy'])\n"
   ]
  },
  {
   "cell_type": "code",
   "execution_count": null,
   "metadata": {
    "colab": {
     "base_uri": "https://localhost:8080/"
    },
    "executionInfo": {
     "elapsed": 425769,
     "status": "ok",
     "timestamp": 1620980083687,
     "user": {
      "displayName": "surya teja",
      "photoUrl": "https://lh3.googleusercontent.com/a-/AOh14Gi1OaMrpEyGpWEiPRm_1uIW5IQcQml4T-ECMAX-MRE=s64",
      "userId": "10402361330384344484"
     },
     "user_tz": -600
    },
    "id": "bidH9N3NtcfU",
    "outputId": "e7a41df0-3a24-43b3-c29f-3daf39b49156"
   },
   "outputs": [
    {
     "name": "stdout",
     "output_type": "stream",
     "text": [
      "Epoch 1/10\n",
      "653/653 [==============================] - 69s 60ms/step - loss: 0.3135 - accuracy: 0.8769\n",
      "Epoch 2/10\n",
      "653/653 [==============================] - 40s 61ms/step - loss: 0.1147 - accuracy: 0.9625\n",
      "Epoch 3/10\n",
      "653/653 [==============================] - 39s 60ms/step - loss: 0.0862 - accuracy: 0.9725\n",
      "Epoch 4/10\n",
      "653/653 [==============================] - 40s 61ms/step - loss: 0.0713 - accuracy: 0.9770\n",
      "Epoch 5/10\n",
      "653/653 [==============================] - 39s 60ms/step - loss: 0.0614 - accuracy: 0.9799\n",
      "Epoch 6/10\n",
      "653/653 [==============================] - 39s 60ms/step - loss: 0.0530 - accuracy: 0.9821\n",
      "Epoch 7/10\n",
      "653/653 [==============================] - 39s 60ms/step - loss: 0.0484 - accuracy: 0.9842\n",
      "Epoch 8/10\n",
      "653/653 [==============================] - 39s 60ms/step - loss: 0.0449 - accuracy: 0.9847\n",
      "Epoch 9/10\n",
      "653/653 [==============================] - 39s 60ms/step - loss: 0.0439 - accuracy: 0.9854\n",
      "Epoch 10/10\n",
      "653/653 [==============================] - 39s 60ms/step - loss: 0.0360 - accuracy: 0.9875\n"
     ]
    },
    {
     "data": {
      "text/plain": [
       "<tensorflow.python.keras.callbacks.History at 0x7fb2200a2510>"
      ]
     },
     "execution_count": 41,
     "metadata": {
      "tags": []
     },
     "output_type": "execute_result"
    }
   ],
   "source": [
    "model.fit(X_train_cnn, y_train, batch_size = 132, epochs= 10, verbose = 1)"
   ]
  },
  {
   "cell_type": "code",
   "execution_count": null,
   "metadata": {
    "colab": {
     "base_uri": "https://localhost:8080/"
    },
    "executionInfo": {
     "elapsed": 730,
     "status": "ok",
     "timestamp": 1620980132609,
     "user": {
      "displayName": "surya teja",
      "photoUrl": "https://lh3.googleusercontent.com/a-/AOh14Gi1OaMrpEyGpWEiPRm_1uIW5IQcQml4T-ECMAX-MRE=s64",
      "userId": "10402361330384344484"
     },
     "user_tz": -600
    },
    "id": "9DHK5CEGtcfU",
    "outputId": "aea045a3-9825-48cf-ca6f-8bbda02eb05a"
   },
   "outputs": [
    {
     "name": "stdout",
     "output_type": "stream",
     "text": [
      "Model: \"sequential_2\"\n",
      "_________________________________________________________________\n",
      "Layer (type)                 Output Shape              Param #   \n",
      "=================================================================\n",
      "conv1d (Conv1D)              (None, 2158, 128)         512       \n",
      "_________________________________________________________________\n",
      "dropout_4 (Dropout)          (None, 2158, 128)         0         \n",
      "_________________________________________________________________\n",
      "conv1d_1 (Conv1D)            (None, 2154, 64)          41024     \n",
      "_________________________________________________________________\n",
      "dropout_5 (Dropout)          (None, 2154, 64)          0         \n",
      "_________________________________________________________________\n",
      "flatten (Flatten)            (None, 137856)            0         \n",
      "_________________________________________________________________\n",
      "dense_6 (Dense)              (None, 1)                 137857    \n",
      "=================================================================\n",
      "Total params: 179,393\n",
      "Trainable params: 179,393\n",
      "Non-trainable params: 0\n",
      "_________________________________________________________________\n"
     ]
    }
   ],
   "source": [
    "model.summary()"
   ]
  },
  {
   "cell_type": "code",
   "execution_count": null,
   "metadata": {
    "colab": {
     "base_uri": "https://localhost:8080/"
    },
    "executionInfo": {
     "elapsed": 16460,
     "status": "ok",
     "timestamp": 1620980276989,
     "user": {
      "displayName": "surya teja",
      "photoUrl": "https://lh3.googleusercontent.com/a-/AOh14Gi1OaMrpEyGpWEiPRm_1uIW5IQcQml4T-ECMAX-MRE=s64",
      "userId": "10402361330384344484"
     },
     "user_tz": -600
    },
    "id": "kHCkkc9UtcfU",
    "outputId": "ff51ca6e-649b-4bc2-e560-816260a675de"
   },
   "outputs": [
    {
     "name": "stderr",
     "output_type": "stream",
     "text": [
      "/usr/local/lib/python3.7/dist-packages/tensorflow/python/keras/engine/sequential.py:425: UserWarning: `model.predict_proba()` is deprecated and will be removed after 2021-01-01. Please use `model.predict()` instead.\n",
      "  warnings.warn('`model.predict_proba()` is deprecated and '\n"
     ]
    },
    {
     "name": "stdout",
     "output_type": "stream",
     "text": [
      "2693/2693 [==============================] - 12s 4ms/step\n",
      "717/717 [==============================] - 3s 4ms/step\n"
     ]
    }
   ],
   "source": [
    "y_train_pred_cnn = model.predict_proba(X_train_cnn,verbose = 1)\n",
    "y_test_pred_cnn = model.predict_proba(X_test_cnn,verbose = 1)"
   ]
  },
  {
   "cell_type": "code",
   "execution_count": null,
   "metadata": {
    "colab": {
     "base_uri": "https://localhost:8080/"
    },
    "executionInfo": {
     "elapsed": 1254,
     "status": "ok",
     "timestamp": 1620980324058,
     "user": {
      "displayName": "surya teja",
      "photoUrl": "https://lh3.googleusercontent.com/a-/AOh14Gi1OaMrpEyGpWEiPRm_1uIW5IQcQml4T-ECMAX-MRE=s64",
      "userId": "10402361330384344484"
     },
     "user_tz": -600
    },
    "id": "QUeIzEdw895i",
    "outputId": "e11ae0dc-27fb-4443-801b-f7d4eb05c394"
   },
   "outputs": [
    {
     "name": "stdout",
     "output_type": "stream",
     "text": [
      "Train\n",
      "AUC:0.999\n",
      "accuracy:0.990\n",
      "recall:0.990\n",
      "precision:0.979\n",
      "specificity:0.991\n",
      "prevalence:0.305\n",
      " \n",
      "Test\n",
      "AUC:0.912\n",
      "accuracy:0.835\n",
      "recall:0.754\n",
      "precision:0.767\n",
      "specificity:0.877\n",
      "prevalence:0.348\n",
      " \n"
     ]
    }
   ],
   "source": [
    "print('Train');\n",
    "print_report(y_train, y_train_pred_cnn, thresh)\n",
    "print('Test');\n",
    "print_report(y_test, y_test_pred_cnn, thresh);"
   ]
  },
  {
   "cell_type": "markdown",
   "metadata": {
    "id": "bqRjkcql9Tao"
   },
   "source": [
    "## LSTM - Bidirectional"
   ]
  },
  {
   "cell_type": "code",
   "execution_count": null,
   "metadata": {
    "id": "wLdd0RfU9U6-"
   },
   "outputs": [],
   "source": [
    "from keras.layers import Bidirectional, LSTM"
   ]
  },
  {
   "cell_type": "code",
   "execution_count": null,
   "metadata": {
    "id": "m6RW-GYr9aNp"
   },
   "outputs": [],
   "source": [
    "model = Sequential()\n",
    "model.add(Bidirectional(LSTM(128, input_shape=(X_train_cnn.shape[1], X_train_cnn.shape[2]))))\n",
    "model.add(Dropout(rate = 0.25))\n",
    "model.add(Dense(1, activation = 'sigmoid'))\n",
    "model.compile(\n",
    "                loss = 'binary_crossentropy',\n",
    "                optimizer = 'adam',\n",
    "                metrics = ['accuracy'])"
   ]
  },
  {
   "cell_type": "markdown",
   "metadata": {
    "id": "2UzH_zAH-8o1"
   },
   "source": [
    "Reduce dataset to make this feasible for weekend project"
   ]
  },
  {
   "cell_type": "code",
   "execution_count": null,
   "metadata": {
    "colab": {
     "base_uri": "https://localhost:8080/"
    },
    "executionInfo": {
     "elapsed": 504021,
     "status": "ok",
     "timestamp": 1620981432272,
     "user": {
      "displayName": "surya teja",
      "photoUrl": "https://lh3.googleusercontent.com/a-/AOh14Gi1OaMrpEyGpWEiPRm_1uIW5IQcQml4T-ECMAX-MRE=s64",
      "userId": "10402361330384344484"
     },
     "user_tz": -600
    },
    "id": "CvruVJyE-7xS",
    "outputId": "d15b9f1f-91bf-4a6e-e4c1-5c1a67d3ece9"
   },
   "outputs": [
    {
     "name": "stdout",
     "output_type": "stream",
     "text": [
      "Epoch 1/10\n",
      "313/313 [==============================] - 51s 153ms/step - loss: 0.5934 - accuracy: 0.6855\n",
      "Epoch 2/10\n",
      "313/313 [==============================] - 49s 156ms/step - loss: 0.5216 - accuracy: 0.7367\n",
      "Epoch 3/10\n",
      "313/313 [==============================] - 50s 160ms/step - loss: 0.6336 - accuracy: 0.7095\n",
      "Epoch 4/10\n",
      "313/313 [==============================] - 50s 158ms/step - loss: 0.6142 - accuracy: 0.6550\n",
      "Epoch 5/10\n",
      "313/313 [==============================] - 50s 160ms/step - loss: 0.5171 - accuracy: 0.7464\n",
      "Epoch 6/10\n",
      "313/313 [==============================] - 50s 161ms/step - loss: 0.5485 - accuracy: 0.7359\n",
      "Epoch 7/10\n",
      "313/313 [==============================] - 50s 161ms/step - loss: 0.6084 - accuracy: 0.6327\n",
      "Epoch 8/10\n",
      "313/313 [==============================] - 51s 162ms/step - loss: 0.6897 - accuracy: 0.5490\n",
      "Epoch 9/10\n",
      "313/313 [==============================] - 51s 163ms/step - loss: 0.6416 - accuracy: 0.6285\n",
      "Epoch 10/10\n",
      "313/313 [==============================] - 51s 164ms/step - loss: 0.6076 - accuracy: 0.6796\n"
     ]
    },
    {
     "data": {
      "text/plain": [
       "<tensorflow.python.keras.callbacks.History at 0x7fb1d9a00c50>"
      ]
     },
     "execution_count": 51,
     "metadata": {
      "tags": []
     },
     "output_type": "execute_result"
    }
   ],
   "source": [
    "model.fit(X_train_cnn[:10000], y_train[:10000], batch_size = 32, epochs= 10, verbose = 1)"
   ]
  },
  {
   "cell_type": "code",
   "execution_count": null,
   "metadata": {
    "colab": {
     "base_uri": "https://localhost:8080/"
    },
    "executionInfo": {
     "elapsed": 76381,
     "status": "ok",
     "timestamp": 1620981604616,
     "user": {
      "displayName": "surya teja",
      "photoUrl": "https://lh3.googleusercontent.com/a-/AOh14Gi1OaMrpEyGpWEiPRm_1uIW5IQcQml4T-ECMAX-MRE=s64",
      "userId": "10402361330384344484"
     },
     "user_tz": -600
    },
    "id": "Qca8FotK-dwh",
    "outputId": "0eeda1b8-50d4-4311-b6e0-7537c7327194"
   },
   "outputs": [
    {
     "name": "stderr",
     "output_type": "stream",
     "text": [
      "/usr/local/lib/python3.7/dist-packages/tensorflow/python/keras/engine/sequential.py:425: UserWarning: `model.predict_proba()` is deprecated and will be removed after 2021-01-01. Please use `model.predict()` instead.\n",
      "  warnings.warn('`model.predict_proba()` is deprecated and '\n"
     ]
    },
    {
     "name": "stdout",
     "output_type": "stream",
     "text": [
      "313/313 [==============================] - 23s 72ms/step\n",
      "717/717 [==============================] - 52s 73ms/step\n"
     ]
    }
   ],
   "source": [
    "y_train_preds_lstm = model.predict_proba(X_train_cnn[:10000],verbose = 1)\n",
    "y_test_preds_lstm = model.predict_proba(X_test_cnn,verbose = 1)"
   ]
  },
  {
   "cell_type": "code",
   "execution_count": null,
   "metadata": {
    "colab": {
     "base_uri": "https://localhost:8080/"
    },
    "executionInfo": {
     "elapsed": 767,
     "status": "ok",
     "timestamp": 1620981795959,
     "user": {
      "displayName": "surya teja",
      "photoUrl": "https://lh3.googleusercontent.com/a-/AOh14Gi1OaMrpEyGpWEiPRm_1uIW5IQcQml4T-ECMAX-MRE=s64",
      "userId": "10402361330384344484"
     },
     "user_tz": -600
    },
    "id": "UpyRT8kY-o6N",
    "outputId": "55aebc07-ed92-46af-9de2-9f1632fb4805"
   },
   "outputs": [
    {
     "name": "stdout",
     "output_type": "stream",
     "text": [
      "Train\n",
      "AUC:0.805\n",
      "accuracy:0.754\n",
      "recall:0.903\n",
      "precision:0.690\n",
      "specificity:0.612\n",
      "prevalence:0.489\n",
      " \n",
      "Valid\n",
      "AUC:0.518\n",
      "accuracy:0.539\n",
      "recall:0.522\n",
      "precision:0.382\n",
      "specificity:0.549\n",
      "prevalence:0.348\n",
      " \n"
     ]
    }
   ],
   "source": [
    "print('Train');\n",
    "print_report(y_train[:10000], y_train_preds_lstm, thresh)\n",
    "print('Valid');\n",
    "print_report(y_test, y_test_preds_lstm, thresh);"
   ]
  },
  {
   "cell_type": "code",
   "execution_count": 58,
   "metadata": {
    "colab": {
     "base_uri": "https://localhost:8080/",
     "height": 295
    },
    "executionInfo": {
     "elapsed": 886,
     "status": "ok",
     "timestamp": 1620982320018,
     "user": {
      "displayName": "surya teja",
      "photoUrl": "https://lh3.googleusercontent.com/a-/AOh14Gi1OaMrpEyGpWEiPRm_1uIW5IQcQml4T-ECMAX-MRE=s64",
      "userId": "10402361330384344484"
     },
     "user_tz": -600
    },
    "id": "NECMC-Q1CyGP",
    "outputId": "7873ed5f-0371-4cac-a4eb-eb19241cde3c"
   },
   "outputs": [
    {
     "data": {
      "image/png": "[encoded data removed]",
      "text/plain": [
       "<Figure size 432x288 with 1 Axes>"
      ]
     },
     "metadata": {
      "needs_background": "light",
      "tags": []
     },
     "output_type": "display_data"
    }
   ],
   "source": [
    "from sklearn.metrics import roc_curve, roc_auc_score\n",
    "\n",
    "\n",
    "fpr_test_cnn, tpr_test_cnn, t_test_cnn = roc_curve(y_test, y_test_pred_cnn)\n",
    "auc_valid_cnn = roc_auc_score(y_test, y_test_pred_cnn)\n",
    "\n",
    "fpr_test_dense, tpr_test_dense, t_test_dense = roc_curve(y_test, y_test_dense_resul)\n",
    "auc_valid_dense = roc_auc_score(y_test, y_test_dense_resul)\n",
    "\n",
    "fpr_test_lstm, tpr_test_lstm, t_test_lstm = roc_curve(y_test, y_test_preds_lstm)\n",
    "auc_valid_lstm = roc_auc_score(y_test, y_test_preds_lstm)\n",
    "\n",
    "plt.plot(fpr_test_cnn, tpr_test_cnn, 'g-', label = 'CNN AUC:%.3f'%auc_valid_cnn)\n",
    "plt.plot(fpr_test_dense, tpr_test_dense, 'r-', label = 'Dense AUC:%.3f'%auc_valid_dense)\n",
    "plt.plot(fpr_test_lstm, tpr_test_lstm, 'b-', label = 'LSTM AUC:%.3f'%auc_valid_lstm)\n",
    "\n",
    "plt.plot([0,1],[0,1], 'k--')\n",
    "plt.xlabel('FPR')\n",
    "plt.ylabel('TPR')\n",
    "plt.legend(bbox_to_anchor = (1.04,1), loc = 'upper left')\n",
    "plt.title('Validation Set')\n",
    "plt.show()"
   ]
  },
  {
   "cell_type": "code",
   "execution_count": null,
   "metadata": {
    "id": "pTjWvxYSD3pI"
   },
   "outputs": [],
   "source": []
  }
 ],
 "metadata": {
  "accelerator": "GPU",
  "colab": {
   "collapsed_sections": [],
   "name": "test.ipynb",
   "provenance": [],
   "toc_visible": true
  },
  "kernelspec": {
   "display_name": "Python 3",
   "language": "python",
   "name": "python3"
  },
  "language_info": {
   "codemirror_mode": {
    "name": "ipython",
    "version": 3
   },
   "file_extension": ".py",
   "mimetype": "text/x-python",
   "name": "python",
   "nbconvert_exporter": "python",
   "pygments_lexer": "ipython3",
   "version": "3.7.3"
  }
 },
 "nbformat": 4,
 "nbformat_minor": 1
}
